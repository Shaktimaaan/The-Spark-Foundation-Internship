{
 "cells": [
  {
   "cell_type": "markdown",
   "metadata": {},
   "source": [
    "# Task 2\n",
    "## Predictiction of student's score by hours of study\n",
    "* In this task I was given with the url link where the data of student about the numbers of hours they studied and respective  score they got.\n",
    "* I have converted that url data in to csv file named \"scores\"."
   ]
  },
  {
   "cell_type": "markdown",
   "metadata": {},
   "source": [
    "### (1) What's in the dataset ?"
   ]
  },
  {
   "cell_type": "markdown",
   "metadata": {},
   "source": [
    "* Intuition is that if the student study more he or she will get more score"
   ]
  },
  {
   "cell_type": "code",
   "execution_count": 1,
   "metadata": {},
   "outputs": [],
   "source": [
    "#Getting our things ready...\n",
    "import numpy as np\n",
    "import pandas as pd\n",
    "import seaborn as sns\n",
    "import matplotlib.pyplot as plt\n",
    "%matplotlib inline\n",
    "\n",
    "#importing various machine learning algorithms\n",
    "from sklearn.linear_model import LinearRegression\n",
    "from sklearn.neighbors import KNeighborsRegressor\n",
    "from sklearn.linear_model import Ridge\n",
    "from sklearn.linear_model import Lasso\n",
    "\n",
    "#extra imports\n",
    "from sklearn.model_selection import train_test_split \n",
    "from sklearn.model_selection import cross_val_score\n",
    "from sklearn.model_selection import GridSearchCV\n",
    "from sklearn.metrics import mean_squared_error\n"
   ]
  },
  {
   "cell_type": "code",
   "execution_count": 2,
   "metadata": {},
   "outputs": [
    {
     "data": {
      "text/html": [
       "<div>\n",
       "<style scoped>\n",
       "    .dataframe tbody tr th:only-of-type {\n",
       "        vertical-align: middle;\n",
       "    }\n",
       "\n",
       "    .dataframe tbody tr th {\n",
       "        vertical-align: top;\n",
       "    }\n",
       "\n",
       "    .dataframe thead th {\n",
       "        text-align: right;\n",
       "    }\n",
       "</style>\n",
       "<table border=\"1\" class=\"dataframe\">\n",
       "  <thead>\n",
       "    <tr style=\"text-align: right;\">\n",
       "      <th></th>\n",
       "      <th>Hours</th>\n",
       "      <th>Scores</th>\n",
       "    </tr>\n",
       "  </thead>\n",
       "  <tbody>\n",
       "    <tr>\n",
       "      <th>0</th>\n",
       "      <td>2.5</td>\n",
       "      <td>21</td>\n",
       "    </tr>\n",
       "    <tr>\n",
       "      <th>1</th>\n",
       "      <td>5.1</td>\n",
       "      <td>47</td>\n",
       "    </tr>\n",
       "    <tr>\n",
       "      <th>2</th>\n",
       "      <td>3.2</td>\n",
       "      <td>27</td>\n",
       "    </tr>\n",
       "    <tr>\n",
       "      <th>3</th>\n",
       "      <td>8.5</td>\n",
       "      <td>75</td>\n",
       "    </tr>\n",
       "    <tr>\n",
       "      <th>4</th>\n",
       "      <td>3.5</td>\n",
       "      <td>30</td>\n",
       "    </tr>\n",
       "    <tr>\n",
       "      <th>5</th>\n",
       "      <td>1.5</td>\n",
       "      <td>20</td>\n",
       "    </tr>\n",
       "    <tr>\n",
       "      <th>6</th>\n",
       "      <td>9.2</td>\n",
       "      <td>88</td>\n",
       "    </tr>\n",
       "  </tbody>\n",
       "</table>\n",
       "</div>"
      ],
      "text/plain": [
       "   Hours  Scores\n",
       "0    2.5      21\n",
       "1    5.1      47\n",
       "2    3.2      27\n",
       "3    8.5      75\n",
       "4    3.5      30\n",
       "5    1.5      20\n",
       "6    9.2      88"
      ]
     },
     "execution_count": 2,
     "metadata": {},
     "output_type": "execute_result"
    }
   ],
   "source": [
    "#reding the data...\n",
    "data = pd.read_csv(\"scores.csv\")\n",
    "data.head(7)"
   ]
  },
  {
   "cell_type": "code",
   "execution_count": 3,
   "metadata": {},
   "outputs": [
    {
     "data": {
      "image/png": "[encoded data removed]",
      "text/plain": [
       "<Figure size 432x288 with 1 Axes>"
      ]
     },
     "metadata": {
      "needs_background": "light"
     },
     "output_type": "display_data"
    },
    {
     "name": "stdout",
     "output_type": "stream",
     "text": [
      "\n",
      "------------------------------------------------------------------------------------------------------------------------------\n",
      "Form the graph we can see that there is linear positive relationship between hours of study and scores.\n",
      "The more they study the more score they will get.\n"
     ]
    }
   ],
   "source": [
    "#let's see that our intuition is right or wrong by plotting the graph.....\n",
    "sns.scatterplot(x= data.Hours ,y= data.Scores, data=data, hue= data.Hours)\n",
    "plt.title('Hours vs Scores')\n",
    "plt.show()\n",
    "print('\\n------------------------------------------------------------------------------------------------------------------------------')\n",
    "print('Form the graph we can see that there is linear positive relationship between hours of study and scores.\\nThe more they study the more score they will get.')"
   ]
  },
  {
   "cell_type": "code",
   "execution_count": 4,
   "metadata": {},
   "outputs": [
    {
     "data": {
      "image/png": "[encoded data removed]",
      "text/plain": [
       "<Figure size 432x288 with 2 Axes>"
      ]
     },
     "metadata": {
      "needs_background": "light"
     },
     "output_type": "display_data"
    },
    {
     "name": "stdout",
     "output_type": "stream",
     "text": [
      "\n",
      "------------------------------------------------------------------------------------------------------------------------------\n",
      "we can see that there is 98% corelation between Hours and Scores\n"
     ]
    }
   ],
   "source": [
    "#what is the corelation??\n",
    "relation = data.corr()\n",
    "sns.heatmap(relation,annot=True,cmap='YlGn')\n",
    "plt.show()\n",
    "print('\\n------------------------------------------------------------------------------------------------------------------------------')\n",
    "print('we can see that there is 98% corelation between Hours and Scores');"
   ]
  },
  {
   "cell_type": "markdown",
   "metadata": {},
   "source": [
    "## Let's split the data for machine learning model"
   ]
  },
  {
   "cell_type": "code",
   "execution_count": 5,
   "metadata": {},
   "outputs": [],
   "source": [
    "x = data.drop('Scores',axis=1)\n",
    "y = data.Scores\n",
    "x_train,x_test,y_train,y_test = train_test_split(x,y,test_size = 0.2,random_state=0)"
   ]
  },
  {
   "cell_type": "markdown",
   "metadata": {},
   "source": [
    "# Note:\n",
    " \n",
    "* In next task we will see the better way of doing this kind of repetitive work but for the sake of this task I will repeat the codes.\n",
    "* We will use separate codes for each models."
   ]
  },
  {
   "cell_type": "markdown",
   "metadata": {},
   "source": [
    "### ~(1) Linear Regression"
   ]
  },
  {
   "cell_type": "code",
   "execution_count": 13,
   "metadata": {},
   "outputs": [
    {
     "name": "stdout",
     "output_type": "stream",
     "text": [
      "The train score:  0.9503779749937483\n",
      "The test score:   0.9387377974189179\n",
      "\n",
      "\n",
      "For parameters {'fit_intercept': False} we get best R squared score of 93.8737797418918 %\n",
      "\n",
      "-----------------------------------------------------------------------------------\n",
      "\n",
      "The dataframe of actual and predicted values\n",
      "\n",
      "    Actual  Predicted\n",
      "5       20  15.337585\n",
      "2       27  32.720181\n",
      "19      69  75.665418\n",
      "16      30  25.562641\n",
      "11      62  60.327833\n",
      "\n",
      "-----------------------------------------------------------------------------------\n",
      "\n",
      "The root mean squared error is 4.926919438221814 units.\n",
      "\n",
      "If student study 9.25 hrs daily acoording to LinearRegression model he will score [94.58177251]\n"
     ]
    },
    {
     "data": {
      "image/png": "[encoded data removed]",
      "text/plain": [
       "<Figure size 432x288 with 1 Axes>"
      ]
     },
     "metadata": {
      "needs_background": "light"
     },
     "output_type": "display_data"
    }
   ],
   "source": [
    "#setting up the seed\n",
    "np.random.seed(0)\n",
    "\n",
    "#Training and getting accuracy with the model\n",
    "lr = LinearRegression()\n",
    "grid = {'fit_intercept': [True ,False]}\n",
    "\n",
    "#Fitting the training data\n",
    "gs = GridSearchCV(lr,cv=6,param_grid=grid)\n",
    "gs.fit(x_train,y_train)\n",
    "print(f'The train score:  {gs.score(x_train,y_train)}')\n",
    "print(f'The test score:   {gs.score(x_test,y_test)}')\n",
    "\n",
    "#predicting the accuracy\n",
    "print('\\n')\n",
    "print(f'For parameters {gs.best_params_} we get best R squared score of {(gs.score(x_test,y_test))*100} %')\n",
    "\n",
    "#Plotting\n",
    "plt.scatter(x,y,alpha=0.5)\n",
    "lr = LinearRegression(fit_intercept= False)\n",
    "lr.fit(x_train,y_train)\n",
    "plt.plot(x,x*lr.coef_ + lr.intercept_, marker = '|',mec = 'r',ms=10,);\n",
    "\n",
    "#Predicting \n",
    "y_pred = gs.predict(x_test)\n",
    "print('\\n-----------------------------------------------------------------------------------')\n",
    "print('\\nThe dataframe of actual and predicted values\\n')\n",
    "print(pd.DataFrame({'Actual': y_test, 'Predicted': y_pred}))\n",
    "\n",
    "#Error\n",
    "print('\\n-----------------------------------------------------------------------------------')\n",
    "print(f'\\nThe root mean squared error is {np.sqrt(mean_squared_error(y_test,y_pred))} units.')\n",
    "\n",
    "#Prediction if Student study 9.25 hrs daily\n",
    "print(f'\\nIf student study 9.25 hrs daily acoording to LinearRegression model he will score {gs.predict([[9.25],])}')"
   ]
  },
  {
   "cell_type": "markdown",
   "metadata": {},
   "source": [
    "### ~(2) KNeighbors Regressor\n",
    "* Its not good algo for this regression due to poor generalization. It fits training data well but not the test data even after tuning.\n",
    "* So don't run it because I have used too many grid params to get better result but did't get it."
   ]
  },
  {
   "cell_type": "code",
   "execution_count": 46,
   "metadata": {},
   "outputs": [
    {
     "name": "stdout",
     "output_type": "stream",
     "text": [
      "\n",
      "The train score:  0.9733436822566925\n",
      "The test score:   0.8102160306884716\n",
      "\n",
      "For parameters {'algorithm': 'auto', 'leaf_size': 1, 'metric': 'minkowski', 'n_neighbors': 2, 'p': 1, 'weights': 'uniform'} we get best R-squared score of 81.02160306884716 %\n",
      "\n",
      "-----------------------------------------------------------------------------------\n",
      "\n",
      "The dataframe of actual and predicted values\n",
      "\n",
      "    Actual  Predicted\n",
      "5       20      20.50\n",
      "2       27      36.00\n",
      "19      69      85.50\n",
      "16      30      25.50\n",
      "11      62      63.50\n",
      "\n",
      "-----------------------------------------------------------------------------------\n",
      "\n",
      "The root mean squared error is 8.67179335547152 units\n",
      "\n",
      "If student study 9.25 hrs daily acoording to KNeighbors Regression model he will score [91.5]\n"
     ]
    }
   ],
   "source": [
    "#Setting up the seed\n",
    "np.random.seed(0)\n",
    "\n",
    "#Setting up the GridSearchCV and model\n",
    "knr = KNeighborsRegressor()\n",
    "grid = {'n_neighbors': range(1,15) ,'weights':['uniform','distance'],'algorithm':['auto','ball_tree','kd_tree'],'leaf_size':range(1,30),'p':[1,2],'metric':['minkowski']}\n",
    "gs = GridSearchCV(knr,param_grid= grid , cv=6)\n",
    "\n",
    "#Fitting the training data\n",
    "gs.fit(x_train,y_train)\n",
    "print(f'\\nThe train score:  {gs.score(x_train,y_train)}')\n",
    "print(f'The test score:   {gs.score(x_test,y_test)}')\n",
    "\n",
    "#Predicting the accuracy\n",
    "print(f'\\nFor parameters {gs.best_params_} we get best R-squared score of {(gs.score(x_test,y_test))*100} %')\n",
    "\n",
    "#Predicting \n",
    "y_pred = gs.predict(x_test)\n",
    "print('\\n-----------------------------------------------------------------------------------')\n",
    "print('\\nThe dataframe of actual and predicted values\\n')\n",
    "print(pd.DataFrame({'Actual': y_test, 'Predicted': y_pred}))\n",
    "\n",
    "#Error\n",
    "print('\\n-----------------------------------------------------------------------------------')\n",
    "print(f'\\nThe root mean squared error is {np.sqrt(mean_squared_error(y_test,y_pred))} units')\n",
    "\n",
    "#Prediction if Student study 9.25 hrs daily\n",
    "print(f'\\nIf student study 9.25 hrs daily acoording to KNeighbors Regression model he will score {gs.predict([[9.25],])}')"
   ]
  },
  {
   "cell_type": "markdown",
   "metadata": {},
   "source": [
    "### ~(3) Ridge Regression"
   ]
  },
  {
   "cell_type": "code",
   "execution_count": 18,
   "metadata": {},
   "outputs": [
    {
     "name": "stdout",
     "output_type": "stream",
     "text": [
      "\n",
      "The train score:  0.9480329453724264\n",
      "The test score:   0.9516770501893197\n",
      "\n",
      "For parameters {'alpha': 8} we get best R-squared score of 95.16770501893197 %\n",
      "\n",
      "-----------------------------------------------------------------------------------\n",
      "\n",
      "The dataframe of actual and predicted values\n",
      "\n",
      "    Actual  Predicted\n",
      "5       20  19.137936\n",
      "2       27  34.961602\n",
      "19      69  74.055363\n",
      "16      30  28.445975\n",
      "11      62  60.093305\n",
      "\n",
      "-----------------------------------------------------------------------------------\n",
      "\n",
      "The root mean squared error is 4.375784002094248 units\n",
      "\n",
      "If student study 9.25 hrs daily acoording to Ridge Regression model he will score [91.2752341]\n"
     ]
    }
   ],
   "source": [
    "#Setting up the seed\n",
    "np.random.seed(0)\n",
    "\n",
    "#Setting up the GridSearchCV and model\n",
    "rg = Ridge()\n",
    "grid = {'alpha' : range(1,100)}\n",
    "gs = GridSearchCV(rg, param_grid = grid , cv=6 )\n",
    "\n",
    "#Fitting the training data\n",
    "gs.fit(x_train,y_train)\n",
    "print(f'\\nThe train score:  {gs.score(x_train,y_train)}')\n",
    "print(f'The test score:   {gs.score(x_test,y_test)}')\n",
    "\n",
    "#Predicting the accuracy\n",
    "print(f'\\nFor parameters {gs.best_params_} we get best R-squared score of {(gs.score(x_test,y_test))*100} %')\n",
    "\n",
    "#Predicting \n",
    "y_pred = gs.predict(x_test)\n",
    "print('\\n-----------------------------------------------------------------------------------')\n",
    "print('\\nThe dataframe of actual and predicted values\\n')\n",
    "print(pd.DataFrame({'Actual': y_test, 'Predicted': y_pred}))\n",
    "\n",
    "#Error\n",
    "print('\\n-----------------------------------------------------------------------------------')\n",
    "print(f'\\nThe root mean squared error is {np.sqrt(mean_squared_error(y_test,y_pred))} units')\n",
    "\n",
    "#Prediction if Student study 9.25 hrs daily\n",
    "print(f'\\nIf student study 9.25 hrs daily acoording to Ridge Regression model he will score {gs.predict([[9.25],])}')"
   ]
  },
  {
   "cell_type": "markdown",
   "metadata": {},
   "source": [
    "### ~(4) Lasso Regression"
   ]
  },
  {
   "cell_type": "code",
   "execution_count": 19,
   "metadata": {},
   "outputs": [
    {
     "name": "stdout",
     "output_type": "stream",
     "text": [
      "\n",
      "The train score:  0.947490425905118\n",
      "The test score:   0.9516866686682858\n",
      "\n",
      "For parameters {'alpha': 4} we get best R-squared score of 95.16866686682857 %\n",
      "\n",
      "-----------------------------------------------------------------------------------\n",
      "\n",
      "The dataframe of actual and predicted values\n",
      "\n",
      "    Actual  Predicted\n",
      "5       20  19.305484\n",
      "2       27  35.052991\n",
      "19      69  73.958598\n",
      "16      30  28.568723\n",
      "11      62  60.063738\n",
      "\n",
      "-----------------------------------------------------------------------------------\n",
      "\n",
      "The root mean squared error is 4.37534848976381 units\n",
      "\n",
      "If student study 9.25 hrs daily acoording to Lasso Regression model he will score [91.09559109]\n",
      "\n",
      "-----------------------------------------------------------------------------------\n"
     ]
    }
   ],
   "source": [
    "#setting up the seed\n",
    "np.random.seed(0)\n",
    "\n",
    "#Setting up the GridSearchCV and model\n",
    "ls = Lasso()\n",
    "grid = {'alpha' : range(1,100)}\n",
    "gs = GridSearchCV(ls, param_grid = grid , cv=6)\n",
    "\n",
    "#Fitting the training data\n",
    "gs.fit(x_train,y_train)\n",
    "print(f'\\nThe train score:  {gs.score(x_train,y_train)}')\n",
    "print(f'The test score:   {gs.score(x_test,y_test)}')\n",
    "\n",
    "#Predicting the accuracy\n",
    "print(f'\\nFor parameters {gs.best_params_} we get best R-squared score of {(gs.score(x_test,y_test))*100} %')\n",
    "\n",
    "#Predicting \n",
    "y_pred = gs.predict(x_test)\n",
    "print('\\n-----------------------------------------------------------------------------------')\n",
    "print('\\nThe dataframe of actual and predicted values\\n')\n",
    "print(pd.DataFrame({'Actual': y_test, 'Predicted': y_pred}))\n",
    "\n",
    "#Error\n",
    "print('\\n-----------------------------------------------------------------------------------')\n",
    "print(f'\\nThe root mean squared error is {np.sqrt(mean_squared_error(y_test,y_pred))} units')\n",
    "\n",
    "#Prediction if Student study 9.25 hrs daily\n",
    "print(f'\\nIf student study 9.25 hrs daily acoording to Lasso Regression model he will score {gs.predict([[9.25],])}')\n",
    "print('\\n-----------------------------------------------------------------------------------')"
   ]
  },
  {
   "cell_type": "markdown",
   "metadata": {},
   "source": [
    "# THANK YOU"
   ]
  },
  {
   "cell_type": "markdown",
   "metadata": {},
   "source": [
    "#  Things which I have learned ..."
   ]
  },
  {
   "cell_type": "markdown",
   "metadata": {},
   "source": [
    "(1) Use Lazypredict instead of doing this kind of repetitive work.\n",
    "    Then choose best model and tune it."
   ]
  },
  {
   "cell_type": "markdown",
   "metadata": {},
   "source": [
    "`!pip install lazypredict`"
   ]
  },
  {
   "cell_type": "code",
   "execution_count": 29,
   "metadata": {},
   "outputs": [
    {
     "name": "stderr",
     "output_type": "stream",
     "text": [
      "C:\\ProgramData\\Anaconda3\\lib\\site-packages\\sklearn\\utils\\deprecation.py:144: FutureWarning: The sklearn.utils.testing module is  deprecated in version 0.22 and will be removed in version 0.24. The corresponding classes / functions should instead be imported from sklearn.utils. Anything that cannot be imported from sklearn.utils is now part of the private API.\n",
      "  warnings.warn(message, FutureWarning)\n"
     ]
    }
   ],
   "source": [
    "from lazypredict.Supervised import LazyRegressor"
   ]
  },
  {
   "cell_type": "code",
   "execution_count": 30,
   "metadata": {},
   "outputs": [
    {
     "name": "stderr",
     "output_type": "stream",
     "text": [
      "100%|██████████████████████████████████████████████████████████████████████████████████| 39/39 [00:00<00:00, 69.31it/s]\n"
     ]
    },
    {
     "data": {
      "text/html": [
       "<div>\n",
       "<style scoped>\n",
       "    .dataframe tbody tr th:only-of-type {\n",
       "        vertical-align: middle;\n",
       "    }\n",
       "\n",
       "    .dataframe tbody tr th {\n",
       "        vertical-align: top;\n",
       "    }\n",
       "\n",
       "    .dataframe thead th {\n",
       "        text-align: right;\n",
       "    }\n",
       "</style>\n",
       "<table border=\"1\" class=\"dataframe\">\n",
       "  <thead>\n",
       "    <tr style=\"text-align: right;\">\n",
       "      <th></th>\n",
       "      <th>R-Squared</th>\n",
       "      <th>RMSE</th>\n",
       "      <th>Time Taken</th>\n",
       "    </tr>\n",
       "    <tr>\n",
       "      <th>Model</th>\n",
       "      <th></th>\n",
       "      <th></th>\n",
       "      <th></th>\n",
       "    </tr>\n",
       "  </thead>\n",
       "  <tbody>\n",
       "    <tr>\n",
       "      <th>Ridge</th>\n",
       "      <td>0.95</td>\n",
       "      <td>4.39</td>\n",
       "      <td>0.01</td>\n",
       "    </tr>\n",
       "    <tr>\n",
       "      <th>Lasso</th>\n",
       "      <td>0.95</td>\n",
       "      <td>4.41</td>\n",
       "      <td>0.00</td>\n",
       "    </tr>\n",
       "    <tr>\n",
       "      <th>ElasticNetCV</th>\n",
       "      <td>0.95</td>\n",
       "      <td>4.48</td>\n",
       "      <td>0.04</td>\n",
       "    </tr>\n",
       "    <tr>\n",
       "      <th>LassoCV</th>\n",
       "      <td>0.95</td>\n",
       "      <td>4.51</td>\n",
       "      <td>0.04</td>\n",
       "    </tr>\n",
       "    <tr>\n",
       "      <th>SGDRegressor</th>\n",
       "      <td>0.95</td>\n",
       "      <td>4.59</td>\n",
       "      <td>0.00</td>\n",
       "    </tr>\n",
       "    <tr>\n",
       "      <th>RidgeCV</th>\n",
       "      <td>0.95</td>\n",
       "      <td>4.61</td>\n",
       "      <td>0.00</td>\n",
       "    </tr>\n",
       "    <tr>\n",
       "      <th>BayesianRidge</th>\n",
       "      <td>0.95</td>\n",
       "      <td>4.63</td>\n",
       "      <td>0.00</td>\n",
       "    </tr>\n",
       "    <tr>\n",
       "      <th>LinearRegression</th>\n",
       "      <td>0.95</td>\n",
       "      <td>4.65</td>\n",
       "      <td>0.00</td>\n",
       "    </tr>\n",
       "    <tr>\n",
       "      <th>LarsCV</th>\n",
       "      <td>0.95</td>\n",
       "      <td>4.65</td>\n",
       "      <td>0.01</td>\n",
       "    </tr>\n",
       "    <tr>\n",
       "      <th>Lars</th>\n",
       "      <td>0.95</td>\n",
       "      <td>4.65</td>\n",
       "      <td>0.00</td>\n",
       "    </tr>\n",
       "    <tr>\n",
       "      <th>LassoLarsIC</th>\n",
       "      <td>0.95</td>\n",
       "      <td>4.65</td>\n",
       "      <td>0.00</td>\n",
       "    </tr>\n",
       "    <tr>\n",
       "      <th>LassoLarsCV</th>\n",
       "      <td>0.95</td>\n",
       "      <td>4.65</td>\n",
       "      <td>0.02</td>\n",
       "    </tr>\n",
       "    <tr>\n",
       "      <th>OrthogonalMatchingPursuit</th>\n",
       "      <td>0.95</td>\n",
       "      <td>4.65</td>\n",
       "      <td>0.00</td>\n",
       "    </tr>\n",
       "    <tr>\n",
       "      <th>RANSACRegressor</th>\n",
       "      <td>0.95</td>\n",
       "      <td>4.65</td>\n",
       "      <td>0.01</td>\n",
       "    </tr>\n",
       "    <tr>\n",
       "      <th>TransformedTargetRegressor</th>\n",
       "      <td>0.95</td>\n",
       "      <td>4.65</td>\n",
       "      <td>0.00</td>\n",
       "    </tr>\n",
       "    <tr>\n",
       "      <th>HuberRegressor</th>\n",
       "      <td>0.94</td>\n",
       "      <td>4.82</td>\n",
       "      <td>0.02</td>\n",
       "    </tr>\n",
       "    <tr>\n",
       "      <th>LassoLars</th>\n",
       "      <td>0.93</td>\n",
       "      <td>5.25</td>\n",
       "      <td>0.00</td>\n",
       "    </tr>\n",
       "    <tr>\n",
       "      <th>PassiveAggressiveRegressor</th>\n",
       "      <td>0.92</td>\n",
       "      <td>5.80</td>\n",
       "      <td>0.02</td>\n",
       "    </tr>\n",
       "    <tr>\n",
       "      <th>KNeighborsRegressor</th>\n",
       "      <td>0.91</td>\n",
       "      <td>5.99</td>\n",
       "      <td>0.00</td>\n",
       "    </tr>\n",
       "    <tr>\n",
       "      <th>AdaBoostRegressor</th>\n",
       "      <td>0.84</td>\n",
       "      <td>8.06</td>\n",
       "      <td>0.05</td>\n",
       "    </tr>\n",
       "    <tr>\n",
       "      <th>ElasticNet</th>\n",
       "      <td>0.83</td>\n",
       "      <td>8.22</td>\n",
       "      <td>0.00</td>\n",
       "    </tr>\n",
       "    <tr>\n",
       "      <th>BaggingRegressor</th>\n",
       "      <td>0.81</td>\n",
       "      <td>8.70</td>\n",
       "      <td>0.02</td>\n",
       "    </tr>\n",
       "    <tr>\n",
       "      <th>ExtraTreesRegressor</th>\n",
       "      <td>0.80</td>\n",
       "      <td>8.93</td>\n",
       "      <td>0.07</td>\n",
       "    </tr>\n",
       "    <tr>\n",
       "      <th>RandomForestRegressor</th>\n",
       "      <td>0.79</td>\n",
       "      <td>9.11</td>\n",
       "      <td>0.08</td>\n",
       "    </tr>\n",
       "    <tr>\n",
       "      <th>ExtraTreeRegressor</th>\n",
       "      <td>0.71</td>\n",
       "      <td>10.72</td>\n",
       "      <td>0.00</td>\n",
       "    </tr>\n",
       "    <tr>\n",
       "      <th>GradientBoostingRegressor</th>\n",
       "      <td>0.70</td>\n",
       "      <td>10.83</td>\n",
       "      <td>0.02</td>\n",
       "    </tr>\n",
       "    <tr>\n",
       "      <th>DecisionTreeRegressor</th>\n",
       "      <td>0.70</td>\n",
       "      <td>10.92</td>\n",
       "      <td>0.00</td>\n",
       "    </tr>\n",
       "    <tr>\n",
       "      <th>XGBRegressor</th>\n",
       "      <td>0.70</td>\n",
       "      <td>10.98</td>\n",
       "      <td>0.02</td>\n",
       "    </tr>\n",
       "    <tr>\n",
       "      <th>GaussianProcessRegressor</th>\n",
       "      <td>0.34</td>\n",
       "      <td>16.20</td>\n",
       "      <td>0.00</td>\n",
       "    </tr>\n",
       "    <tr>\n",
       "      <th>SVR</th>\n",
       "      <td>0.28</td>\n",
       "      <td>16.87</td>\n",
       "      <td>0.00</td>\n",
       "    </tr>\n",
       "    <tr>\n",
       "      <th>NuSVR</th>\n",
       "      <td>-0.01</td>\n",
       "      <td>20.02</td>\n",
       "      <td>0.02</td>\n",
       "    </tr>\n",
       "    <tr>\n",
       "      <th>HistGradientBoostingRegressor</th>\n",
       "      <td>-0.38</td>\n",
       "      <td>23.43</td>\n",
       "      <td>0.02</td>\n",
       "    </tr>\n",
       "    <tr>\n",
       "      <th>DummyRegressor</th>\n",
       "      <td>-0.38</td>\n",
       "      <td>23.43</td>\n",
       "      <td>0.00</td>\n",
       "    </tr>\n",
       "    <tr>\n",
       "      <th>LGBMRegressor</th>\n",
       "      <td>-0.38</td>\n",
       "      <td>23.43</td>\n",
       "      <td>0.01</td>\n",
       "    </tr>\n",
       "    <tr>\n",
       "      <th>LinearSVR</th>\n",
       "      <td>-1.22</td>\n",
       "      <td>29.68</td>\n",
       "      <td>0.00</td>\n",
       "    </tr>\n",
       "    <tr>\n",
       "      <th>MLPRegressor</th>\n",
       "      <td>-3.19</td>\n",
       "      <td>40.74</td>\n",
       "      <td>0.06</td>\n",
       "    </tr>\n",
       "    <tr>\n",
       "      <th>KernelRidge</th>\n",
       "      <td>-5.96</td>\n",
       "      <td>52.52</td>\n",
       "      <td>0.00</td>\n",
       "    </tr>\n",
       "  </tbody>\n",
       "</table>\n",
       "</div>"
      ],
      "text/plain": [
       "                               R-Squared  RMSE  Time Taken\n",
       "Model                                                     \n",
       "Ridge                               0.95  4.39        0.01\n",
       "Lasso                               0.95  4.41        0.00\n",
       "ElasticNetCV                        0.95  4.48        0.04\n",
       "LassoCV                             0.95  4.51        0.04\n",
       "SGDRegressor                        0.95  4.59        0.00\n",
       "RidgeCV                             0.95  4.61        0.00\n",
       "BayesianRidge                       0.95  4.63        0.00\n",
       "LinearRegression                    0.95  4.65        0.00\n",
       "LarsCV                              0.95  4.65        0.01\n",
       "Lars                                0.95  4.65        0.00\n",
       "LassoLarsIC                         0.95  4.65        0.00\n",
       "LassoLarsCV                         0.95  4.65        0.02\n",
       "OrthogonalMatchingPursuit           0.95  4.65        0.00\n",
       "RANSACRegressor                     0.95  4.65        0.01\n",
       "TransformedTargetRegressor          0.95  4.65        0.00\n",
       "HuberRegressor                      0.94  4.82        0.02\n",
       "LassoLars                           0.93  5.25        0.00\n",
       "PassiveAggressiveRegressor          0.92  5.80        0.02\n",
       "KNeighborsRegressor                 0.91  5.99        0.00\n",
       "AdaBoostRegressor                   0.84  8.06        0.05\n",
       "ElasticNet                          0.83  8.22        0.00\n",
       "BaggingRegressor                    0.81  8.70        0.02\n",
       "ExtraTreesRegressor                 0.80  8.93        0.07\n",
       "RandomForestRegressor               0.79  9.11        0.08\n",
       "ExtraTreeRegressor                  0.71 10.72        0.00\n",
       "GradientBoostingRegressor           0.70 10.83        0.02\n",
       "DecisionTreeRegressor               0.70 10.92        0.00\n",
       "XGBRegressor                        0.70 10.98        0.02\n",
       "GaussianProcessRegressor            0.34 16.20        0.00\n",
       "SVR                                 0.28 16.87        0.00\n",
       "NuSVR                              -0.01 20.02        0.02\n",
       "HistGradientBoostingRegressor      -0.38 23.43        0.02\n",
       "DummyRegressor                     -0.38 23.43        0.00\n",
       "LGBMRegressor                      -0.38 23.43        0.01\n",
       "LinearSVR                          -1.22 29.68        0.00\n",
       "MLPRegressor                       -3.19 40.74        0.06\n",
       "KernelRidge                        -5.96 52.52        0.00"
      ]
     },
     "execution_count": 30,
     "metadata": {},
     "output_type": "execute_result"
    }
   ],
   "source": [
    "reg = LazyRegressor(ignore_warnings=True)\n",
    "models,predictions = reg.fit(x_train, x_test, y_train, y_test)\n",
    "models"
   ]
  },
  {
   "cell_type": "code",
   "execution_count": null,
   "metadata": {},
   "outputs": [],
   "source": []
  }
 ],
 "metadata": {
  "kernelspec": {
   "display_name": "Python 3",
   "language": "python",
   "name": "python3"
  },
  "language_info": {
   "codemirror_mode": {
    "name": "ipython",
    "version": 3
   },
   "file_extension": ".py",
   "mimetype": "text/x-python",
   "name": "python",
   "nbconvert_exporter": "python",
   "pygments_lexer": "ipython3",
   "version": "3.7.6"
  }
 },
 "nbformat": 4,
 "nbformat_minor": 4
}
